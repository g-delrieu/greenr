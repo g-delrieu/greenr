{
 "cells": [
  {
   "cell_type": "code",
   "execution_count": 1,
   "metadata": {},
   "outputs": [],
   "source": [
    "import pandas as pd\n",
    "data = pd.read_csv('Food_Weights.csv', sep=';')"
   ]
  },
  {
   "cell_type": "code",
   "execution_count": 28,
   "metadata": {
    "scrolled": true
   },
   "outputs": [
    {
     "data": {
      "text/html": [
       "<div>\n",
       "<style scoped>\n",
       "    .dataframe tbody tr th:only-of-type {\n",
       "        vertical-align: middle;\n",
       "    }\n",
       "\n",
       "    .dataframe tbody tr th {\n",
       "        vertical-align: top;\n",
       "    }\n",
       "\n",
       "    .dataframe thead th {\n",
       "        text-align: right;\n",
       "    }\n",
       "</style>\n",
       "<table border=\"1\" class=\"dataframe\">\n",
       "  <thead>\n",
       "    <tr style=\"text-align: right;\">\n",
       "      <th></th>\n",
       "      <th>Food</th>\n",
       "      <th>Measure</th>\n",
       "      <th>Grams</th>\n",
       "      <th>Calories</th>\n",
       "      <th>quantity</th>\n",
       "      <th>unit</th>\n",
       "    </tr>\n",
       "  </thead>\n",
       "  <tbody>\n",
       "    <tr>\n",
       "      <th>0</th>\n",
       "      <td>Dairy products</td>\n",
       "      <td>0</td>\n",
       "      <td>NaN</td>\n",
       "      <td>NaN</td>\n",
       "      <td>0</td>\n",
       "      <td></td>\n",
       "    </tr>\n",
       "    <tr>\n",
       "      <th>1</th>\n",
       "      <td>Cows' milk, whole</td>\n",
       "      <td>1 lt.</td>\n",
       "      <td>1031,32944</td>\n",
       "      <td>660</td>\n",
       "      <td>1</td>\n",
       "      <td>lt.</td>\n",
       "    </tr>\n",
       "    <tr>\n",
       "      <th>2</th>\n",
       "      <td>Cows' milk, skim</td>\n",
       "      <td>1 lt.</td>\n",
       "      <td>1039,78296</td>\n",
       "      <td>360</td>\n",
       "      <td>1</td>\n",
       "      <td>lt.</td>\n",
       "    </tr>\n",
       "    <tr>\n",
       "      <th>3</th>\n",
       "      <td>Buttermilk, cultured</td>\n",
       "      <td>1 lt.</td>\n",
       "      <td>1025,00082</td>\n",
       "      <td>127</td>\n",
       "      <td>1</td>\n",
       "      <td>lt.</td>\n",
       "    </tr>\n",
       "    <tr>\n",
       "      <th>4</th>\n",
       "      <td>Evaporated milk</td>\n",
       "      <td>1 lt.</td>\n",
       "      <td>1050,00084</td>\n",
       "      <td>345</td>\n",
       "      <td>1</td>\n",
       "      <td>lt.</td>\n",
       "    </tr>\n",
       "  </tbody>\n",
       "</table>\n",
       "</div>"
      ],
      "text/plain": [
       "                   Food Measure       Grams Calories quantity unit\n",
       "0        Dairy products       0         NaN      NaN        0     \n",
       "1     Cows' milk, whole   1 lt.  1031,32944      660       1   lt.\n",
       "2      Cows' milk, skim   1 lt.  1039,78296      360       1   lt.\n",
       "3  Buttermilk, cultured   1 lt.  1025,00082      127       1   lt.\n",
       "4       Evaporated milk   1 lt.  1050,00084      345       1   lt."
      ]
     },
     "execution_count": 28,
     "metadata": {},
     "output_type": "execute_result"
    }
   ],
   "source": [
    "data.head()"
   ]
  },
  {
   "cell_type": "code",
   "execution_count": 17,
   "metadata": {
    "collapsed": true
   },
   "outputs": [
    {
     "data": {
      "text/plain": [
       "array(['0', '1 lt.', '1 cup', '1/2 cup', '1-in. cube', '1 oz.', '1',\n",
       "       '1T.', '1/4\\xa0lb.', '1 T.', '2 oz.', '2 slices', '3 oz.', '1 pie',\n",
       "       '3 1/2 oz.', '3 med.', '4 oz.', '5', '1 small', 'aver.',\n",
       "       '6-8 med.', '120', '1 steak', '1 med.', '6 small', '1 mad.',\n",
       "       '10 pieces', '3/4 cup', '10', '5 small', '4 cups', '1 large',\n",
       "       '6 spears', '1 ear', '8', '1/4 head', '4', '1 1/3 cups', '2 T.',\n",
       "       '01. Feb', '6-oz. can', '8 oz. or', '1/3 cup', '1 med',\n",
       "       '1/2 large', '1/2 med.', '2', '3', '1 large slice', 'I med.',\n",
       "       '1 wedge', '1 slice', '1-lb. loaf', '1 serving', '2 med.',\n",
       "       '1 section', '2 cups', '2 pieces', '2-oz. bar', '12 oz.'],\n",
       "      dtype=object)"
      ]
     },
     "execution_count": 17,
     "metadata": {},
     "output_type": "execute_result"
    }
   ],
   "source": [
    "data['Measure'].unique()"
   ]
  },
  {
   "cell_type": "code",
   "execution_count": 10,
   "metadata": {},
   "outputs": [],
   "source": [
    "data['Measure'] = data['Measure'].fillna(0)\n",
    "data['Measure']=data['Measure'].apply(str)"
   ]
  },
  {
   "cell_type": "code",
   "execution_count": 16,
   "metadata": {},
   "outputs": [],
   "source": [
    "# for quantity: remove everything that is not numbers or /\n",
    "import re\n",
    "def extract_quantity(quantity_str):\n",
    "    return re.sub(\"[^0-9/ ]\", \"\", quantity_str)   \n",
    "data['quantity'] = data['Measure'].apply(extract_quantity)"
   ]
  },
  {
   "cell_type": "code",
   "execution_count": 19,
   "metadata": {},
   "outputs": [],
   "source": [
    "# for unit: remove everything that is numbers or /\n",
    "def extract_unit(unit_str):\n",
    "    return re.sub(\"[^a-zA-Z.]\", \"\", unit_str)\n",
    "data['unit'] = data['Measure'].apply(extract_unit)"
   ]
  },
  {
   "cell_type": "code",
   "execution_count": 21,
   "metadata": {},
   "outputs": [],
   "source": [
    "clean_data = pd.DataFrame(list(zip(data.Food, data.quantity, data.unit, data.Grams)), columns = ['Food', 'quantity', 'unit', 'weight'])"
   ]
  },
  {
   "cell_type": "code",
   "execution_count": 23,
   "metadata": {},
   "outputs": [
    {
     "data": {
      "text/plain": [
       "array(['', 'lt.', 'cup', 'in.cube', 'oz.', 'T.', 'lb.', 'slices', 'pie',\n",
       "       'med.', 'small', 'aver.', 'steak', 'mad.', 'pieces', 'cups',\n",
       "       'large', 'spears', 'ear', 'head', '.Feb', 'oz.can', 'oz.or', 'med',\n",
       "       'largeslice', 'Imed.', 'wedge', 'slice', 'lb.loaf', 'serving',\n",
       "       'section', 'oz.bar'], dtype=object)"
      ]
     },
     "execution_count": 23,
     "metadata": {},
     "output_type": "execute_result"
    }
   ],
   "source": [
    "clean_data['unit'].unique()"
   ]
  },
  {
   "cell_type": "code",
   "execution_count": 65,
   "metadata": {
    "scrolled": true
   },
   "outputs": [
    {
     "data": {
      "text/html": [
       "<div>\n",
       "<style scoped>\n",
       "    .dataframe tbody tr th:only-of-type {\n",
       "        vertical-align: middle;\n",
       "    }\n",
       "\n",
       "    .dataframe tbody tr th {\n",
       "        vertical-align: top;\n",
       "    }\n",
       "\n",
       "    .dataframe thead th {\n",
       "        text-align: right;\n",
       "    }\n",
       "</style>\n",
       "<table border=\"1\" class=\"dataframe\">\n",
       "  <thead>\n",
       "    <tr style=\"text-align: right;\">\n",
       "      <th></th>\n",
       "      <th>Food</th>\n",
       "      <th>quantity</th>\n",
       "      <th>unit</th>\n",
       "      <th>weight</th>\n",
       "      <th>quantity_2</th>\n",
       "    </tr>\n",
       "  </thead>\n",
       "  <tbody>\n",
       "    <tr>\n",
       "      <th>0</th>\n",
       "      <td>Dairy products</td>\n",
       "      <td>0</td>\n",
       "      <td></td>\n",
       "      <td>NaN</td>\n",
       "      <td>0</td>\n",
       "    </tr>\n",
       "    <tr>\n",
       "      <th>1</th>\n",
       "      <td>Cows' milk, whole</td>\n",
       "      <td>1</td>\n",
       "      <td>lt.</td>\n",
       "      <td>1031,32944</td>\n",
       "      <td></td>\n",
       "    </tr>\n",
       "    <tr>\n",
       "      <th>2</th>\n",
       "      <td>Cows' milk, skim</td>\n",
       "      <td>1</td>\n",
       "      <td>lt.</td>\n",
       "      <td>1039,78296</td>\n",
       "      <td></td>\n",
       "    </tr>\n",
       "    <tr>\n",
       "      <th>3</th>\n",
       "      <td>Buttermilk, cultured</td>\n",
       "      <td>1</td>\n",
       "      <td>lt.</td>\n",
       "      <td>1025,00082</td>\n",
       "      <td></td>\n",
       "    </tr>\n",
       "    <tr>\n",
       "      <th>4</th>\n",
       "      <td>Evaporated milk</td>\n",
       "      <td>1</td>\n",
       "      <td>lt.</td>\n",
       "      <td>1050,00084</td>\n",
       "      <td></td>\n",
       "    </tr>\n",
       "  </tbody>\n",
       "</table>\n",
       "</div>"
      ],
      "text/plain": [
       "                   Food quantity unit      weight quantity_2\n",
       "0        Dairy products        0              NaN          0\n",
       "1     Cows' milk, whole       1   lt.  1031,32944           \n",
       "2      Cows' milk, skim       1   lt.  1039,78296           \n",
       "3  Buttermilk, cultured       1   lt.  1025,00082           \n",
       "4       Evaporated milk       1   lt.  1050,00084           "
      ]
     },
     "execution_count": 65,
     "metadata": {},
     "output_type": "execute_result"
    }
   ],
   "source": [
    "clean_data.head()"
   ]
  },
  {
   "cell_type": "code",
   "execution_count": 64,
   "metadata": {},
   "outputs": [],
   "source": [
    "def to_numeric(quantity):\n",
    "    if not '/' in quantity and not ' ' in quantity and quantity.isdigit():  # if only numbers convert to float\n",
    "        return float(quantity)\n",
    "    elif not ' ' in quantity and quantity.isdigit():\n",
    "        return \n",
    "    else: \n",
    "        return ' '\n",
    "clean_data['quantity_2'] = clean_data['quantity'].apply(to_numeric) # else numbers and / convert to fraction\n",
    "# convert fraction to float with pd.eval"
   ]
  },
  {
   "cell_type": "code",
   "execution_count": 42,
   "metadata": {},
   "outputs": [
    {
     "data": {
      "text/plain": [
       "0.5"
      ]
     },
     "execution_count": 42,
     "metadata": {},
     "output_type": "execute_result"
    }
   ],
   "source": [
    "test = '1/2'\n",
    "test = test.split('/')\n",
    "test_num1 = float(test[0])\n",
    "test_num2 = float(test[1])\n",
    "test_num = test_num1 / test_num2\n",
    "test_num"
   ]
  },
  {
   "cell_type": "code",
   "execution_count": 66,
   "metadata": {
    "collapsed": true
   },
   "outputs": [
    {
     "ename": "SyntaxError",
     "evalue": "invalid syntax (<unknown>, line 1)",
     "output_type": "error",
     "traceback": [
      "Traceback \u001b[0;36m(most recent call last)\u001b[0m:\n",
      "  File \u001b[1;32m\"/Users/florencia/.pyenv/versions/3.7.7/envs/project_name/lib/python3.7/site-packages/IPython/core/interactiveshell.py\"\u001b[0m, line \u001b[1;32m3417\u001b[0m, in \u001b[1;35mrun_code\u001b[0m\n    exec(code_obj, self.user_global_ns, self.user_ns)\n",
      "  File \u001b[1;32m\"<ipython-input-66-9cfcbdb37c5f>\"\u001b[0m, line \u001b[1;32m1\u001b[0m, in \u001b[1;35m<module>\u001b[0m\n    clean_data[['quantity']].apply(pd.eval)\n",
      "  File \u001b[1;32m\"/Users/florencia/.pyenv/versions/3.7.7/envs/project_name/lib/python3.7/site-packages/pandas/core/frame.py\"\u001b[0m, line \u001b[1;32m7545\u001b[0m, in \u001b[1;35mapply\u001b[0m\n    return op.get_result()\n",
      "  File \u001b[1;32m\"/Users/florencia/.pyenv/versions/3.7.7/envs/project_name/lib/python3.7/site-packages/pandas/core/apply.py\"\u001b[0m, line \u001b[1;32m180\u001b[0m, in \u001b[1;35mget_result\u001b[0m\n    return self.apply_standard()\n",
      "  File \u001b[1;32m\"/Users/florencia/.pyenv/versions/3.7.7/envs/project_name/lib/python3.7/site-packages/pandas/core/apply.py\"\u001b[0m, line \u001b[1;32m255\u001b[0m, in \u001b[1;35mapply_standard\u001b[0m\n    results, res_index = self.apply_series_generator()\n",
      "  File \u001b[1;32m\"/Users/florencia/.pyenv/versions/3.7.7/envs/project_name/lib/python3.7/site-packages/pandas/core/apply.py\"\u001b[0m, line \u001b[1;32m284\u001b[0m, in \u001b[1;35mapply_series_generator\u001b[0m\n    results[i] = self.f(v)\n",
      "  File \u001b[1;32m\"/Users/florencia/.pyenv/versions/3.7.7/envs/project_name/lib/python3.7/site-packages/pandas/core/computation/eval.py\"\u001b[0m, line \u001b[1;32m341\u001b[0m, in \u001b[1;35meval\u001b[0m\n    parsed_expr = Expr(expr, engine=engine, parser=parser, env=env)\n",
      "  File \u001b[1;32m\"/Users/florencia/.pyenv/versions/3.7.7/envs/project_name/lib/python3.7/site-packages/pandas/core/computation/expr.py\"\u001b[0m, line \u001b[1;32m787\u001b[0m, in \u001b[1;35m__init__\u001b[0m\n    self.terms = self.parse()\n",
      "  File \u001b[1;32m\"/Users/florencia/.pyenv/versions/3.7.7/envs/project_name/lib/python3.7/site-packages/pandas/core/computation/expr.py\"\u001b[0m, line \u001b[1;32m806\u001b[0m, in \u001b[1;35mparse\u001b[0m\n    return self._visitor.visit(self.expr)\n",
      "  File \u001b[1;32m\"/Users/florencia/.pyenv/versions/3.7.7/envs/project_name/lib/python3.7/site-packages/pandas/core/computation/expr.py\"\u001b[0m, line \u001b[1;32m394\u001b[0m, in \u001b[1;35mvisit\u001b[0m\n    raise e\n",
      "  File \u001b[1;32m\"/Users/florencia/.pyenv/versions/3.7.7/envs/project_name/lib/python3.7/site-packages/pandas/core/computation/expr.py\"\u001b[0m, line \u001b[1;32m390\u001b[0m, in \u001b[1;35mvisit\u001b[0m\n    node = ast.fix_missing_locations(ast.parse(clean))\n",
      "\u001b[0;36m  File \u001b[0;32m\"/Users/florencia/.pyenv/versions/3.7.7/lib/python3.7/ast.py\"\u001b[0;36m, line \u001b[0;32m35\u001b[0;36m, in \u001b[0;35mparse\u001b[0;36m\u001b[0m\n\u001b[0;31m    return compile(source, filename, mode, PyCF_ONLY_AST)\u001b[0m\n",
      "\u001b[0;36m  File \u001b[0;32m\"<unknown>\"\u001b[0;36m, line \u001b[0;32m1\u001b[0m\n\u001b[0;31m    [0 ,1 ,1 ,1 ,1 ,1 ,1 ,1 ,1 ,1 ,1 ,1 ,1 /2 ,1 ,1 ,1 /2 ,1 ,1 ,1 ,1 ,0 ,1 ,1 ,0 ,1 ,1 /4 ,1 /2 ,1 /2 ,1 /2 ,1 ,1 ,1 ,1 ,1 ,1 ,1 ,1 ,1 ,1 ,2 ,0 ,2 ,3 ,3 ,3 ,0 ,3 ,3 ,3 ,3 ,0 ,3 ,2 ,1 ,1 ,3 ,3 ,3 1 /2 ,3 ,3 1 /2 ,4 ,3 ,3 ,3 1 /2 ,0 ,3 ,2 ,2 ,3 ,3 1 /2 ,3 1 /2 ,3 ,3 ,0 ,3 ,3 1 /2 ,3 ,0 ,5 ,3 1 /2 ,3 ,3 1 /2 ,1 ,,3 ,68 ,120 ,0 ,1 ,3 ,3 ,3 1 /2 ,3 ,3 ,1 ,3 ,0 ,0 ,1 ,1 ,...]\u001b[0m\n\u001b[0m                                                                                                                                                                                                    ^\u001b[0m\n\u001b[0;31mSyntaxError\u001b[0m\u001b[0;31m:\u001b[0m invalid syntax\n"
     ]
    }
   ],
   "source": [
    "clean_data[['quantity']].apply(pd.eval)"
   ]
  },
  {
   "cell_type": "code",
   "execution_count": null,
   "metadata": {},
   "outputs": [],
   "source": [
    "clean_data['quantity'].unique()"
   ]
  },
  {
   "cell_type": "code",
   "execution_count": null,
   "metadata": {},
   "outputs": [],
   "source": [
    "#1/2, 1/4, 3/4, 1/3"
   ]
  },
  {
   "cell_type": "code",
   "execution_count": null,
   "metadata": {},
   "outputs": [],
   "source": [
    "clean_data['unit'].unique()"
   ]
  },
  {
   "cell_type": "code",
   "execution_count": null,
   "metadata": {},
   "outputs": [],
   "source": [
    "#cup, cube, oz., lb., slices, pie, steak, mad., pieces, cups, spears, ear, Feb, can, wedge, slice, section, bar\n",
    "clean_data2 = clean_data[clean_data.unit != 'cup']"
   ]
  },
  {
   "cell_type": "code",
   "execution_count": null,
   "metadata": {},
   "outputs": [],
   "source": [
    "clean_data2"
   ]
  },
  {
   "cell_type": "code",
   "execution_count": null,
   "metadata": {},
   "outputs": [],
   "source": []
  }
 ],
 "metadata": {
  "kernelspec": {
   "display_name": "Python 3",
   "language": "python",
   "name": "python3"
  },
  "language_info": {
   "codemirror_mode": {
    "name": "ipython",
    "version": 3
   },
   "file_extension": ".py",
   "mimetype": "text/x-python",
   "name": "python",
   "nbconvert_exporter": "python",
   "pygments_lexer": "ipython3",
   "version": "3.7.7"
  },
  "toc": {
   "base_numbering": 1,
   "nav_menu": {},
   "number_sections": true,
   "sideBar": true,
   "skip_h1_title": false,
   "title_cell": "Table of Contents",
   "title_sidebar": "Contents",
   "toc_cell": false,
   "toc_position": {},
   "toc_section_display": true,
   "toc_window_display": false
  }
 },
 "nbformat": 4,
 "nbformat_minor": 4
}
