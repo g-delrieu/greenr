{
 "cells": [
  {
   "cell_type": "code",
   "execution_count": 2,
   "metadata": {},
   "outputs": [],
   "source": [
    "import pandas as pd\n",
    "name = ['Oatmeal', 'Rice', 'Potatoes', 'Eggs']\n",
    "qty = [1, 0.5, 3, 2]\n",
    "unit = ['tablespoon', 'tablespoon', 'unit', 'grams']\n",
    "\n",
    "test_df = pd.DataFrame(list(zip(name, qty, unit)), columns = ['name', 'qty', 'unit'])"
   ]
  },
  {
   "cell_type": "code",
   "execution_count": 5,
   "metadata": {},
   "outputs": [
    {
     "data": {
      "text/html": [
       "<div>\n",
       "<style scoped>\n",
       "    .dataframe tbody tr th:only-of-type {\n",
       "        vertical-align: middle;\n",
       "    }\n",
       "\n",
       "    .dataframe tbody tr th {\n",
       "        vertical-align: top;\n",
       "    }\n",
       "\n",
       "    .dataframe thead th {\n",
       "        text-align: right;\n",
       "    }\n",
       "</style>\n",
       "<table border=\"1\" class=\"dataframe\">\n",
       "  <thead>\n",
       "    <tr style=\"text-align: right;\">\n",
       "      <th></th>\n",
       "      <th>name</th>\n",
       "      <th>qty</th>\n",
       "      <th>unit</th>\n",
       "    </tr>\n",
       "  </thead>\n",
       "  <tbody>\n",
       "    <tr>\n",
       "      <th>0</th>\n",
       "      <td>Oatmeal</td>\n",
       "      <td>1.0</td>\n",
       "      <td>tablespoon</td>\n",
       "    </tr>\n",
       "    <tr>\n",
       "      <th>1</th>\n",
       "      <td>Rice</td>\n",
       "      <td>0.5</td>\n",
       "      <td>tablespoon</td>\n",
       "    </tr>\n",
       "    <tr>\n",
       "      <th>2</th>\n",
       "      <td>Potatoes</td>\n",
       "      <td>3.0</td>\n",
       "      <td>unit</td>\n",
       "    </tr>\n",
       "    <tr>\n",
       "      <th>3</th>\n",
       "      <td>Eggs</td>\n",
       "      <td>2.0</td>\n",
       "      <td>grams</td>\n",
       "    </tr>\n",
       "  </tbody>\n",
       "</table>\n",
       "</div>"
      ],
      "text/plain": [
       "       name  qty        unit\n",
       "0   Oatmeal  1.0  tablespoon\n",
       "1      Rice  0.5  tablespoon\n",
       "2  Potatoes  3.0        unit\n",
       "3      Eggs  2.0       grams"
      ]
     },
     "execution_count": 5,
     "metadata": {},
     "output_type": "execute_result"
    }
   ],
   "source": [
    "test_df"
   ]
  },
  {
   "cell_type": "code",
   "execution_count": 3,
   "metadata": {},
   "outputs": [],
   "source": [
    "data = pd.read_csv('data/Final_conversion_table.csv')\n",
    "\n",
    "data = data.drop(['Average tablespoon (grams)', 'Source', 'Average Unit (if applicable) (grams)', 'Source.1'], axis = 1)\n",
    "data.columns = ['name','tablespoon','unit','ghg']\n",
    "data = data.set_index('name')\n",
    "\n",
    "def ghg_calc(df):\n",
    "    impact = []\n",
    "    for i in range(len(df.unit)):\n",
    "        if df.unit[i] == 'tablespoon':\n",
    "            impact.append(df.qty[i]*data.tablespoon[df.name[i]]*data.ghg[df.name[i]])\n",
    "        elif df.unit[i] == 'unit':\n",
    "            impact.append(df.qty[i]*data.unit[df.name[i]]*data.ghg[df.name[i]])\n",
    "        elif df.unit[i] == 'gram':\n",
    "            impact.append((df.qty[i]/1000)*data.unit[df.name[i]]*data.ghg[df.name[i]])\n",
    "        elif df.unit[i] == 'milliliter':\n",
    "            impact.append((df.qty[i]/1000)*data.unit[df.name[i]]*data.ghg[df.name[i]])\n",
    "        elif df.unit[i] == 'kilogram':\n",
    "            impact.append(df.qty[i]*data.ghg[df.name[i]])\n",
    "        elif df.unit[i] == 'liter':\n",
    "            impact.append(df.qty[i]*data.ghg[df.name[i]])\n",
    "        else:\n",
    "            impact.append(0)\n",
    "\n",
    "    return sum(impact)\n"
   ]
  },
  {
   "cell_type": "code",
   "execution_count": 4,
   "metadata": {},
   "outputs": [
    {
     "data": {
      "text/plain": [
       "0.360038"
      ]
     },
     "execution_count": 4,
     "metadata": {},
     "output_type": "execute_result"
    }
   ],
   "source": [
    "ghg_calc(test_df)"
   ]
  },
  {
   "cell_type": "code",
   "execution_count": null,
   "metadata": {},
   "outputs": [],
   "source": []
  }
 ],
 "metadata": {
  "kernelspec": {
   "display_name": "Python 3",
   "language": "python",
   "name": "python3"
  },
  "language_info": {
   "codemirror_mode": {
    "name": "ipython",
    "version": 3
   },
   "file_extension": ".py",
   "mimetype": "text/x-python",
   "name": "python",
   "nbconvert_exporter": "python",
   "pygments_lexer": "ipython3",
   "version": "3.7.7"
  },
  "toc": {
   "base_numbering": 1,
   "nav_menu": {},
   "number_sections": true,
   "sideBar": true,
   "skip_h1_title": false,
   "title_cell": "Table of Contents",
   "title_sidebar": "Contents",
   "toc_cell": false,
   "toc_position": {},
   "toc_section_display": true,
   "toc_window_display": false
  }
 },
 "nbformat": 4,
 "nbformat_minor": 4
}
